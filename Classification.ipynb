{
 "cells": [
  {
   "cell_type": "markdown",
   "metadata": {},
   "source": [
    "# Project Master DS\n",
    "Malware binary classification\n",
    "\n",
    "Pietro Marincola\n",
    "\n",
    "https://ieee-dataport.org/open-access/malware-analysis-datasets-raw-pe-image"
   ]
  },
  {
   "cell_type": "code",
   "execution_count": 33,
   "metadata": {},
   "outputs": [],
   "source": [
    "#Libraries\n",
    "\n",
    "import pandas as pd\n",
    "import numpy as np\n",
    "from collections import Counter\n",
    "from tqdm import tqdm\n",
    "\n",
    "# Supervised learning models with sklearn\n",
    "from sklearn.model_selection import GridSearchCV, train_test_split, cross_val_score, cross_val_predict, KFold, StratifiedKFold, RepeatedKFold,RepeatedStratifiedKFold,RandomizedSearchCV, ShuffleSplit, StratifiedShuffleSplit, learning_curve, validation_curve,cross_validate\n",
    "from sklearn.metrics import confusion_matrix, precision_score, recall_score, f1_score, precision_recall_curve, roc_curve, roc_auc_score, accuracy_score, recall_score, classification_report\n",
    "from sklearn.linear_model import Perceptron, LogisticRegression, SGDClassifier\n",
    "from sklearn.ensemble import RandomForestClassifier,VotingClassifier,BaggingClassifier\n",
    "from sklearn.svm import SVC\n",
    "from sklearn.dummy import DummyClassifier\n",
    "from sklearn.svm import SVC, LinearSVC\n",
    "from sklearn.neighbors import KNeighborsClassifier\n",
    "\n",
    "from imblearn.over_sampling import SMOTE\n",
    "from imblearn.over_sampling import RandomOverSampler \n",
    "from imblearn.under_sampling import RepeatedEditedNearestNeighbours,RandomUnderSampler\n",
    "from imblearn.pipeline import make_pipeline as mp\n",
    "\n",
    "# Visualization\n",
    "import seaborn as sns\n",
    "import matplotlib.pyplot as plt\n",
    "import matplotlib as mpl\n",
    "from matplotlib.colors import ListedColormap\n",
    "%matplotlib inline"
   ]
  },
  {
   "cell_type": "markdown",
   "metadata": {},
   "source": [
    "# Dataset\n",
    "- hash feature = malware id\n",
    "- pixel features= 1024 because of conversion 32 x 32 greyscale image\n",
    "- flattened to a 1024 bytes vector\n",
    "- label feature = malware\n",
    "\n",
    "Column name: malware\n",
    "Description: Class\n",
    "Type: 0 (Goodware) or 1 (Malware)"
   ]
  },
  {
   "cell_type": "code",
   "execution_count": 34,
   "metadata": {},
   "outputs": [
    {
     "name": "stdout",
     "output_type": "stream",
     "text": [
      "<class 'pandas.core.frame.DataFrame'>\n",
      "RangeIndex: 51959 entries, 0 to 51958\n",
      "Columns: 1026 entries, hash to malware\n",
      "dtypes: int64(1025), object(1)\n",
      "memory usage: 406.7+ MB\n"
     ]
    }
   ],
   "source": [
    "orig_visual_malware_dataset = pd.read_csv('./raw_pe_images.csv')\n",
    "orig_visual_malware_dataset.info()"
   ]
  },
  {
   "cell_type": "code",
   "execution_count": 35,
   "metadata": {},
   "outputs": [
    {
     "data": {
      "text/html": [
       "<div>\n",
       "<style scoped>\n",
       "    .dataframe tbody tr th:only-of-type {\n",
       "        vertical-align: middle;\n",
       "    }\n",
       "\n",
       "    .dataframe tbody tr th {\n",
       "        vertical-align: top;\n",
       "    }\n",
       "\n",
       "    .dataframe thead th {\n",
       "        text-align: right;\n",
       "    }\n",
       "</style>\n",
       "<table border=\"1\" class=\"dataframe\">\n",
       "  <thead>\n",
       "    <tr style=\"text-align: right;\">\n",
       "      <th></th>\n",
       "      <th>hash</th>\n",
       "      <th>pix_0</th>\n",
       "      <th>pix_1</th>\n",
       "      <th>pix_2</th>\n",
       "      <th>pix_3</th>\n",
       "      <th>pix_4</th>\n",
       "      <th>pix_5</th>\n",
       "      <th>pix_6</th>\n",
       "      <th>pix_7</th>\n",
       "      <th>pix_8</th>\n",
       "      <th>...</th>\n",
       "      <th>pix_1015</th>\n",
       "      <th>pix_1016</th>\n",
       "      <th>pix_1017</th>\n",
       "      <th>pix_1018</th>\n",
       "      <th>pix_1019</th>\n",
       "      <th>pix_1020</th>\n",
       "      <th>pix_1021</th>\n",
       "      <th>pix_1022</th>\n",
       "      <th>pix_1023</th>\n",
       "      <th>malware</th>\n",
       "    </tr>\n",
       "  </thead>\n",
       "  <tbody>\n",
       "    <tr>\n",
       "      <th>0</th>\n",
       "      <td>b324140e1fb35dc6b694879ba1f2be45</td>\n",
       "      <td>15</td>\n",
       "      <td>15</td>\n",
       "      <td>239</td>\n",
       "      <td>15</td>\n",
       "      <td>223</td>\n",
       "      <td>36</td>\n",
       "      <td>102</td>\n",
       "      <td>243</td>\n",
       "      <td>102</td>\n",
       "      <td>...</td>\n",
       "      <td>31</td>\n",
       "      <td>242</td>\n",
       "      <td>245</td>\n",
       "      <td>169</td>\n",
       "      <td>212</td>\n",
       "      <td>17</td>\n",
       "      <td>255</td>\n",
       "      <td>160</td>\n",
       "      <td>122</td>\n",
       "      <td>1</td>\n",
       "    </tr>\n",
       "    <tr>\n",
       "      <th>1</th>\n",
       "      <td>1d32b1326a524b163eb74af645cd34d5</td>\n",
       "      <td>234</td>\n",
       "      <td>196</td>\n",
       "      <td>8</td>\n",
       "      <td>20</td>\n",
       "      <td>182</td>\n",
       "      <td>56</td>\n",
       "      <td>27</td>\n",
       "      <td>223</td>\n",
       "      <td>144</td>\n",
       "      <td>...</td>\n",
       "      <td>189</td>\n",
       "      <td>228</td>\n",
       "      <td>156</td>\n",
       "      <td>54</td>\n",
       "      <td>189</td>\n",
       "      <td>82</td>\n",
       "      <td>177</td>\n",
       "      <td>125</td>\n",
       "      <td>193</td>\n",
       "      <td>1</td>\n",
       "    </tr>\n",
       "    <tr>\n",
       "      <th>2</th>\n",
       "      <td>e44fea4913fc9fd91b8b07c4670aeac4</td>\n",
       "      <td>196</td>\n",
       "      <td>255</td>\n",
       "      <td>5</td>\n",
       "      <td>97</td>\n",
       "      <td>35</td>\n",
       "      <td>112</td>\n",
       "      <td>219</td>\n",
       "      <td>189</td>\n",
       "      <td>217</td>\n",
       "      <td>...</td>\n",
       "      <td>254</td>\n",
       "      <td>189</td>\n",
       "      <td>227</td>\n",
       "      <td>255</td>\n",
       "      <td>192</td>\n",
       "      <td>231</td>\n",
       "      <td>253</td>\n",
       "      <td>196</td>\n",
       "      <td>233</td>\n",
       "      <td>1</td>\n",
       "    </tr>\n",
       "  </tbody>\n",
       "</table>\n",
       "<p>3 rows × 1026 columns</p>\n",
       "</div>"
      ],
      "text/plain": [
       "                               hash  pix_0  pix_1  pix_2  pix_3  pix_4  pix_5  \\\n",
       "0  b324140e1fb35dc6b694879ba1f2be45     15     15    239     15    223     36   \n",
       "1  1d32b1326a524b163eb74af645cd34d5    234    196      8     20    182     56   \n",
       "2  e44fea4913fc9fd91b8b07c4670aeac4    196    255      5     97     35    112   \n",
       "\n",
       "   pix_6  pix_7  pix_8  ...  pix_1015  pix_1016  pix_1017  pix_1018  pix_1019  \\\n",
       "0    102    243    102  ...        31       242       245       169       212   \n",
       "1     27    223    144  ...       189       228       156        54       189   \n",
       "2    219    189    217  ...       254       189       227       255       192   \n",
       "\n",
       "   pix_1020  pix_1021  pix_1022  pix_1023  malware  \n",
       "0        17       255       160       122        1  \n",
       "1        82       177       125       193        1  \n",
       "2       231       253       196       233        1  \n",
       "\n",
       "[3 rows x 1026 columns]"
      ]
     },
     "execution_count": 35,
     "metadata": {},
     "output_type": "execute_result"
    }
   ],
   "source": [
    "orig_visual_malware_dataset.head(3)"
   ]
  },
  {
   "cell_type": "markdown",
   "metadata": {},
   "source": [
    "## Dataset manipulation"
   ]
  },
  {
   "cell_type": "code",
   "execution_count": 36,
   "metadata": {},
   "outputs": [
    {
     "data": {
      "text/html": [
       "<div>\n",
       "<style scoped>\n",
       "    .dataframe tbody tr th:only-of-type {\n",
       "        vertical-align: middle;\n",
       "    }\n",
       "\n",
       "    .dataframe tbody tr th {\n",
       "        vertical-align: top;\n",
       "    }\n",
       "\n",
       "    .dataframe thead th {\n",
       "        text-align: right;\n",
       "    }\n",
       "</style>\n",
       "<table border=\"1\" class=\"dataframe\">\n",
       "  <thead>\n",
       "    <tr style=\"text-align: right;\">\n",
       "      <th></th>\n",
       "      <th>pix_0</th>\n",
       "      <th>pix_1</th>\n",
       "      <th>pix_2</th>\n",
       "      <th>pix_3</th>\n",
       "      <th>pix_4</th>\n",
       "      <th>pix_5</th>\n",
       "      <th>pix_6</th>\n",
       "      <th>pix_7</th>\n",
       "      <th>pix_8</th>\n",
       "      <th>pix_9</th>\n",
       "      <th>...</th>\n",
       "      <th>pix_1014</th>\n",
       "      <th>pix_1015</th>\n",
       "      <th>pix_1016</th>\n",
       "      <th>pix_1017</th>\n",
       "      <th>pix_1018</th>\n",
       "      <th>pix_1019</th>\n",
       "      <th>pix_1020</th>\n",
       "      <th>pix_1021</th>\n",
       "      <th>pix_1022</th>\n",
       "      <th>pix_1023</th>\n",
       "    </tr>\n",
       "  </thead>\n",
       "  <tbody>\n",
       "    <tr>\n",
       "      <th>0</th>\n",
       "      <td>15</td>\n",
       "      <td>15</td>\n",
       "      <td>239</td>\n",
       "      <td>15</td>\n",
       "      <td>223</td>\n",
       "      <td>36</td>\n",
       "      <td>102</td>\n",
       "      <td>243</td>\n",
       "      <td>102</td>\n",
       "      <td>102</td>\n",
       "      <td>...</td>\n",
       "      <td>255</td>\n",
       "      <td>31</td>\n",
       "      <td>242</td>\n",
       "      <td>245</td>\n",
       "      <td>169</td>\n",
       "      <td>212</td>\n",
       "      <td>17</td>\n",
       "      <td>255</td>\n",
       "      <td>160</td>\n",
       "      <td>122</td>\n",
       "    </tr>\n",
       "    <tr>\n",
       "      <th>1</th>\n",
       "      <td>234</td>\n",
       "      <td>196</td>\n",
       "      <td>8</td>\n",
       "      <td>20</td>\n",
       "      <td>182</td>\n",
       "      <td>56</td>\n",
       "      <td>27</td>\n",
       "      <td>223</td>\n",
       "      <td>144</td>\n",
       "      <td>255</td>\n",
       "      <td>...</td>\n",
       "      <td>213</td>\n",
       "      <td>189</td>\n",
       "      <td>228</td>\n",
       "      <td>156</td>\n",
       "      <td>54</td>\n",
       "      <td>189</td>\n",
       "      <td>82</td>\n",
       "      <td>177</td>\n",
       "      <td>125</td>\n",
       "      <td>193</td>\n",
       "    </tr>\n",
       "  </tbody>\n",
       "</table>\n",
       "<p>2 rows × 1024 columns</p>\n",
       "</div>"
      ],
      "text/plain": [
       "   pix_0  pix_1  pix_2  pix_3  pix_4  pix_5  pix_6  pix_7  pix_8  pix_9  ...  \\\n",
       "0     15     15    239     15    223     36    102    243    102    102  ...   \n",
       "1    234    196      8     20    182     56     27    223    144    255  ...   \n",
       "\n",
       "   pix_1014  pix_1015  pix_1016  pix_1017  pix_1018  pix_1019  pix_1020  \\\n",
       "0       255        31       242       245       169       212        17   \n",
       "1       213       189       228       156        54       189        82   \n",
       "\n",
       "   pix_1021  pix_1022  pix_1023  \n",
       "0       255       160       122  \n",
       "1       177       125       193  \n",
       "\n",
       "[2 rows x 1024 columns]"
      ]
     },
     "execution_count": 36,
     "metadata": {},
     "output_type": "execute_result"
    }
   ],
   "source": [
    "#create label dataset\n",
    "visual_malware_label = orig_visual_malware_dataset['malware']\n",
    "#remove unecessary columns\n",
    "visual_malware_dataset = orig_visual_malware_dataset.drop(['hash','malware'], axis=1)\n",
    "visual_malware_dataset.head(2)"
   ]
  },
  {
   "cell_type": "code",
   "execution_count": 37,
   "metadata": {},
   "outputs": [
    {
     "data": {
      "image/png": "[encoded data removed]",
      "text/plain": [
       "<Figure size 432x288 with 1 Axes>"
      ]
     },
     "metadata": {
      "needs_background": "light"
     },
     "output_type": "display_data"
    }
   ],
   "source": [
    "x = orig_visual_malware_dataset.malware\n",
    "plt.xticks([0,1],['Goodware','Malware'])\n",
    "plt.hist(x)\n",
    "plt.show()"
   ]
  },
  {
   "cell_type": "markdown",
   "metadata": {},
   "source": [
    "Stratification: not balance between classes\n",
    "\n",
    "inbalance classes - use imblearn"
   ]
  },
  {
   "cell_type": "markdown",
   "metadata": {},
   "source": [
    "### General"
   ]
  },
  {
   "cell_type": "code",
   "execution_count": 38,
   "metadata": {},
   "outputs": [
    {
     "data": {
      "image/png": "[encoded data removed]",
      "text/plain": [
       "<Figure size 432x288 with 1 Axes>"
      ]
     },
     "metadata": {
      "needs_background": "light"
     },
     "output_type": "display_data"
    },
    {
     "name": "stdout",
     "output_type": "stream",
     "text": [
      "Malware\n"
     ]
    }
   ],
   "source": [
    "#Malware image sample\n",
    "sw_pos = 8\n",
    "sample_malware = visual_malware_dataset.iloc[sw_pos].to_numpy()\n",
    "sample_malware_img = sample_malware.reshape(32,32)\n",
    "\n",
    "plt.imshow(sample_malware_img,cmap=\"binary\")\n",
    "plt.axis(\"off\")\n",
    "plt.show()\n",
    "if visual_malware_label.iloc[sw_pos] == 1:\n",
    "    print(\"Malware\")\n",
    "else:\n",
    "    print(\"Goodware\")"
   ]
  },
  {
   "cell_type": "markdown",
   "metadata": {},
   "source": [
    "### Under & Over Sampler\n",
    "stratify: split the dataset into train and test sets in a way that preserves the same proportions of examples in each class as observed in the original dataset"
   ]
  },
  {
   "cell_type": "code",
   "execution_count": 17,
   "metadata": {},
   "outputs": [
    {
     "name": "stdout",
     "output_type": "stream",
     "text": [
      "dataset label shape original Counter({1: 34563, 0: 1808})\n",
      "Resampled dataset shape under Counter({0: 1808, 1: 1808})\n",
      "Resampled dataset shape over Counter({1: 34563, 0: 34563})\n"
     ]
    }
   ],
   "source": [
    "X_train, X_test, y_train, y_test = train_test_split(visual_malware_dataset, visual_malware_label,\n",
    "                                                    test_size = 0.3,\n",
    "                                                    random_state = 42,\n",
    "                                                    shuffle= True,\n",
    "                                                    stratify=visual_malware_label)\n",
    "print('dataset label shape original %s' % Counter(y_train))\n",
    "#Under\n",
    "rus = RandomUnderSampler(random_state=0, replacement=True)\n",
    "X_train_under, y_train_under = rus.fit_resample(X_train, y_train)\n",
    "print('Resampled dataset shape under %s' % Counter(y_train_under))\n",
    "#Over\n",
    "ros = RandomOverSampler(random_state=42)\n",
    "X_train_over, y_train_over = ros.fit_resample(X_train, y_train)\n",
    "print('Resampled dataset shape over %s' % Counter(y_train_over))"
   ]
  },
  {
   "cell_type": "code",
   "execution_count": 18,
   "metadata": {},
   "outputs": [],
   "source": [
    "#simply scaling pixel values to the range 0-1 to centering and even standardizing the values\n",
    "X_train_over = X_train_over/255\n",
    "X_train_under = X_train_under/255\n",
    "X_test = X_test/255"
   ]
  },
  {
   "cell_type": "code",
   "execution_count": 19,
   "metadata": {},
   "outputs": [
    {
     "data": {
      "text/html": [
       "<div>\n",
       "<style scoped>\n",
       "    .dataframe tbody tr th:only-of-type {\n",
       "        vertical-align: middle;\n",
       "    }\n",
       "\n",
       "    .dataframe tbody tr th {\n",
       "        vertical-align: top;\n",
       "    }\n",
       "\n",
       "    .dataframe thead th {\n",
       "        text-align: right;\n",
       "    }\n",
       "</style>\n",
       "<table border=\"1\" class=\"dataframe\">\n",
       "  <thead>\n",
       "    <tr style=\"text-align: right;\">\n",
       "      <th></th>\n",
       "      <th>pix_0</th>\n",
       "      <th>pix_1</th>\n",
       "      <th>pix_2</th>\n",
       "      <th>pix_3</th>\n",
       "      <th>pix_4</th>\n",
       "      <th>pix_5</th>\n",
       "      <th>pix_6</th>\n",
       "      <th>pix_7</th>\n",
       "      <th>pix_8</th>\n",
       "      <th>pix_9</th>\n",
       "      <th>...</th>\n",
       "      <th>pix_1014</th>\n",
       "      <th>pix_1015</th>\n",
       "      <th>pix_1016</th>\n",
       "      <th>pix_1017</th>\n",
       "      <th>pix_1018</th>\n",
       "      <th>pix_1019</th>\n",
       "      <th>pix_1020</th>\n",
       "      <th>pix_1021</th>\n",
       "      <th>pix_1022</th>\n",
       "      <th>pix_1023</th>\n",
       "    </tr>\n",
       "  </thead>\n",
       "  <tbody>\n",
       "    <tr>\n",
       "      <th>0</th>\n",
       "      <td>0.000000</td>\n",
       "      <td>0.250980</td>\n",
       "      <td>0.458824</td>\n",
       "      <td>0.721569</td>\n",
       "      <td>0.031373</td>\n",
       "      <td>0.513725</td>\n",
       "      <td>0.000000</td>\n",
       "      <td>0.407843</td>\n",
       "      <td>0.501961</td>\n",
       "      <td>0.909804</td>\n",
       "      <td>...</td>\n",
       "      <td>0.749020</td>\n",
       "      <td>0.188235</td>\n",
       "      <td>0.639216</td>\n",
       "      <td>0.650980</td>\n",
       "      <td>0.949020</td>\n",
       "      <td>0.254902</td>\n",
       "      <td>0.898039</td>\n",
       "      <td>0.023529</td>\n",
       "      <td>0.705882</td>\n",
       "      <td>0.113725</td>\n",
       "    </tr>\n",
       "    <tr>\n",
       "      <th>1</th>\n",
       "      <td>0.000000</td>\n",
       "      <td>0.000000</td>\n",
       "      <td>0.454902</td>\n",
       "      <td>0.000000</td>\n",
       "      <td>0.000000</td>\n",
       "      <td>0.000000</td>\n",
       "      <td>0.000000</td>\n",
       "      <td>0.000000</td>\n",
       "      <td>0.447059</td>\n",
       "      <td>0.000000</td>\n",
       "      <td>...</td>\n",
       "      <td>0.560784</td>\n",
       "      <td>0.847059</td>\n",
       "      <td>0.466667</td>\n",
       "      <td>0.525490</td>\n",
       "      <td>0.003922</td>\n",
       "      <td>0.188235</td>\n",
       "      <td>0.282353</td>\n",
       "      <td>0.192157</td>\n",
       "      <td>0.282353</td>\n",
       "      <td>0.062745</td>\n",
       "    </tr>\n",
       "    <tr>\n",
       "      <th>2</th>\n",
       "      <td>0.729412</td>\n",
       "      <td>0.466667</td>\n",
       "      <td>0.117647</td>\n",
       "      <td>0.466667</td>\n",
       "      <td>0.607843</td>\n",
       "      <td>0.466667</td>\n",
       "      <td>0.921569</td>\n",
       "      <td>0.466667</td>\n",
       "      <td>0.886275</td>\n",
       "      <td>0.635294</td>\n",
       "      <td>...</td>\n",
       "      <td>0.000000</td>\n",
       "      <td>0.000000</td>\n",
       "      <td>0.000000</td>\n",
       "      <td>0.000000</td>\n",
       "      <td>0.000000</td>\n",
       "      <td>0.000000</td>\n",
       "      <td>0.000000</td>\n",
       "      <td>0.000000</td>\n",
       "      <td>0.000000</td>\n",
       "      <td>0.000000</td>\n",
       "    </tr>\n",
       "    <tr>\n",
       "      <th>3</th>\n",
       "      <td>0.192157</td>\n",
       "      <td>0.000000</td>\n",
       "      <td>0.411765</td>\n",
       "      <td>0.447059</td>\n",
       "      <td>0.411765</td>\n",
       "      <td>0.298039</td>\n",
       "      <td>0.423529</td>\n",
       "      <td>0.341176</td>\n",
       "      <td>0.447059</td>\n",
       "      <td>0.396078</td>\n",
       "      <td>...</td>\n",
       "      <td>0.000000</td>\n",
       "      <td>0.000000</td>\n",
       "      <td>0.000000</td>\n",
       "      <td>0.000000</td>\n",
       "      <td>0.000000</td>\n",
       "      <td>0.000000</td>\n",
       "      <td>0.000000</td>\n",
       "      <td>0.000000</td>\n",
       "      <td>0.000000</td>\n",
       "      <td>0.000000</td>\n",
       "    </tr>\n",
       "    <tr>\n",
       "      <th>4</th>\n",
       "      <td>0.784314</td>\n",
       "      <td>0.023529</td>\n",
       "      <td>0.513725</td>\n",
       "      <td>0.819608</td>\n",
       "      <td>0.423529</td>\n",
       "      <td>0.996078</td>\n",
       "      <td>0.270588</td>\n",
       "      <td>0.298039</td>\n",
       "      <td>0.305882</td>\n",
       "      <td>0.007843</td>\n",
       "      <td>...</td>\n",
       "      <td>0.427451</td>\n",
       "      <td>0.396078</td>\n",
       "      <td>0.329412</td>\n",
       "      <td>0.317647</td>\n",
       "      <td>1.000000</td>\n",
       "      <td>1.000000</td>\n",
       "      <td>0.419608</td>\n",
       "      <td>0.921569</td>\n",
       "      <td>0.341176</td>\n",
       "      <td>0.305882</td>\n",
       "    </tr>\n",
       "  </tbody>\n",
       "</table>\n",
       "<p>5 rows × 1024 columns</p>\n",
       "</div>"
      ],
      "text/plain": [
       "      pix_0     pix_1     pix_2     pix_3     pix_4     pix_5     pix_6  \\\n",
       "0  0.000000  0.250980  0.458824  0.721569  0.031373  0.513725  0.000000   \n",
       "1  0.000000  0.000000  0.454902  0.000000  0.000000  0.000000  0.000000   \n",
       "2  0.729412  0.466667  0.117647  0.466667  0.607843  0.466667  0.921569   \n",
       "3  0.192157  0.000000  0.411765  0.447059  0.411765  0.298039  0.423529   \n",
       "4  0.784314  0.023529  0.513725  0.819608  0.423529  0.996078  0.270588   \n",
       "\n",
       "      pix_7     pix_8     pix_9  ...  pix_1014  pix_1015  pix_1016  pix_1017  \\\n",
       "0  0.407843  0.501961  0.909804  ...  0.749020  0.188235  0.639216  0.650980   \n",
       "1  0.000000  0.447059  0.000000  ...  0.560784  0.847059  0.466667  0.525490   \n",
       "2  0.466667  0.886275  0.635294  ...  0.000000  0.000000  0.000000  0.000000   \n",
       "3  0.341176  0.447059  0.396078  ...  0.000000  0.000000  0.000000  0.000000   \n",
       "4  0.298039  0.305882  0.007843  ...  0.427451  0.396078  0.329412  0.317647   \n",
       "\n",
       "   pix_1018  pix_1019  pix_1020  pix_1021  pix_1022  pix_1023  \n",
       "0  0.949020  0.254902  0.898039  0.023529  0.705882  0.113725  \n",
       "1  0.003922  0.188235  0.282353  0.192157  0.282353  0.062745  \n",
       "2  0.000000  0.000000  0.000000  0.000000  0.000000  0.000000  \n",
       "3  0.000000  0.000000  0.000000  0.000000  0.000000  0.000000  \n",
       "4  1.000000  1.000000  0.419608  0.921569  0.341176  0.305882  \n",
       "\n",
       "[5 rows x 1024 columns]"
      ]
     },
     "execution_count": 19,
     "metadata": {},
     "output_type": "execute_result"
    }
   ],
   "source": [
    "X_train_under.head(5)"
   ]
  },
  {
   "cell_type": "code",
   "execution_count": 21,
   "metadata": {},
   "outputs": [
    {
     "data": {
      "text/plain": [
       "(3616, 1024)"
      ]
     },
     "execution_count": 21,
     "metadata": {},
     "output_type": "execute_result"
    }
   ],
   "source": [
    "X_train_under.shape"
   ]
  },
  {
   "cell_type": "markdown",
   "metadata": {},
   "source": [
    "# Classification"
   ]
  },
  {
   "cell_type": "markdown",
   "metadata": {},
   "source": [
    "## Perceptron\n",
    "Use cross-validation,\n",
    "\n",
    "use GridSearch,\n",
    "\n",
    "Confusion Matrix, \n",
    "\n",
    "Recall - Best for our case because I want to reduce False Negative (and accept False positive)\n"
   ]
  },
  {
   "cell_type": "code",
   "execution_count": 22,
   "metadata": {},
   "outputs": [
    {
     "name": "stdout",
     "output_type": "stream",
     "text": [
      "Mean recall Under Sampled: 0.711\n",
      "Config: {'alpha': 0.0001, 'max_iter': 1000}\n",
      "------------------------------------\n",
      "Mean recall Over Sampled: 0.730\n",
      "Config: {'alpha': 0.0001, 'max_iter': 1000}\n"
     ]
    }
   ],
   "source": [
    "pct = Perceptron()\n",
    "# define model evaluation method\n",
    "#---------------------------------- Posso considerare cv come un hyperparametro da inserire in Grid Search ?? ------------------\n",
    "#cv = StratifiedKFold(n_splits=10)\n",
    "\"\"\"\"\"\n",
    "cv = RepeatedStratifiedKFold(n_splits=10, n_repeats=3,random_state=1)\n",
    "# define grid\n",
    "grid = dict()\n",
    "#alpha Constant that multiplies the regularization term if regularization is used.\n",
    "grid['alpha'] = [0.0001, 0.01, 0.1]\n",
    "#The maximum number of passes over the training data (aka epochs). It only impacts the behavior in the fit method, and not the partial_fit method\n",
    "grid['max_iter'] = [1000]\n",
    "# define search\n",
    "search = GridSearchCV(pct, grid, scoring='recall', cv=cv, n_jobs=-1)\n",
    "# perform the search\n",
    "results = search.fit(X_train, y_train)\n",
    "# summarize\n",
    "print('Mean recall: %.3f' % results.best_score_)\n",
    "print('Config: %s' % results.best_params_)\n",
    "print(\"------------------------------------\")\n",
    "\"\"\"\"\"\n",
    "#cv = StratifiedKFold(n_splits=10)\n",
    "cv = RepeatedStratifiedKFold(n_splits=10, n_repeats=3,random_state=1)\n",
    "# define grid\n",
    "grid = dict()\n",
    "#alpha Constant that multiplies the regularization term if regularization is used.\n",
    "grid['alpha'] = [0.0001, 0.01, 0.1, 1.0]\n",
    "#The maximum number of passes over the training data (aka epochs). It only impacts the behavior in the fit method, and not the partial_fit method\n",
    "grid['max_iter'] = [1000, 10000]\n",
    "# define search\n",
    "search = GridSearchCV(pct, grid, scoring='recall', cv=cv, n_jobs=-1)\n",
    "results_under = search.fit(X_train_under, y_train_under)\n",
    "print('Mean recall Under Sampled: %.3f' % results_under.best_score_)\n",
    "print('Config: %s' % results_under.best_params_)\n",
    "print(\"------------------------------------\")\n",
    "\n",
    "#cv = StratifiedKFold(n_splits=10)\n",
    "cv = RepeatedStratifiedKFold(n_splits=10, n_repeats=3,random_state=1)\n",
    "# define grid\n",
    "grid = dict()\n",
    "#alpha Constant that multiplies the regularization term if regularization is used.\n",
    "grid['alpha'] = [0.0001, 0.01, 0.1]\n",
    "#The maximum number of passes over the training data (aka epochs). It only impacts the behavior in the fit method, and not the partial_fit method\n",
    "grid['max_iter'] = [1000]\n",
    "# define search\n",
    "search = GridSearchCV(pct, grid, scoring='recall', cv=cv, n_jobs=-1)\n",
    "results_over = search.fit(X_train_over, y_train_over)\n",
    "print('Mean recall Over Sampled: %.3f' % results_over.best_score_)\n",
    "print('Config: %s' % results_over.best_params_)\n"
   ]
  },
  {
   "cell_type": "code",
   "execution_count": 23,
   "metadata": {},
   "outputs": [
    {
     "data": {
      "text/plain": [
       "Text(0.5, 1.0, 'Perceptron')"
      ]
     },
     "execution_count": 23,
     "metadata": {},
     "output_type": "execute_result"
    },
    {
     "data": {
      "image/png": "[encoded data removed]",
      "text/plain": [
       "<Figure size 432x288 with 2 Axes>"
      ]
     },
     "metadata": {
      "needs_background": "light"
     },
     "output_type": "display_data"
    }
   ],
   "source": [
    "pct = Perceptron()\n",
    "y_train_pct_predicted_under = cross_val_predict(pct, X_train_under, y_train_under, cv = 10)\n",
    "sns.heatmap(confusion_matrix(y_train_under,y_train_pct_predicted_under),annot=True,fmt=\"g\",cmap='Blues_r')\n",
    "plt.ylabel('Actual Label')\n",
    "plt.xlabel('Predicted Label')\n",
    "plt.xticks([0.50,1.50],['Goodware','Malware'],fontsize=20)\n",
    "plt.yticks([0.50,1.50],['Goodware','Malware'],fontsize=20)\n",
    "plt.title(\"Perceptron\", size = 25)\n"
   ]
  },
  {
   "cell_type": "markdown",
   "metadata": {},
   "source": [
    "## Classification with Linear Classifier\n",
    "use K-fold with stratified shuffle\n",
    "\n",
    "- SGD\n",
    "- Logistic Regression"
   ]
  },
  {
   "cell_type": "code",
   "execution_count": 24,
   "metadata": {},
   "outputs": [
    {
     "name": "stdout",
     "output_type": "stream",
     "text": [
      "Mean recall Under Sampled: 0.653\n",
      "Config: {'alpha': 0.0001, 'max_iter': 1000}\n",
      "------------------------------------\n"
     ]
    },
    {
     "data": {
      "text/plain": [
       "\"\\n#cv = StratifiedKFold(n_splits=10)\\ncv = RepeatedStratifiedKFold(n_splits=5, n_repeats=3,random_state=1)\\n# define grid\\ngrid = dict()\\ngrid['alpha'] = [0.0001, 0.001]\\ngrid['max_iter'] = [1000, 100000]\\n#grid['tol'] = [0.001, 0.01, 0.1]\\n# define search\\nsearch = GridSearchCV(sgd_clf, grid, scoring='recall', cv=cv, n_jobs=-1)\\nresults_over = search.fit(X_train_over, y_train_over)\\nprint('Mean recall Over Sampled: %.3f' % results_over.best_score_)\\nprint('Config: %s' % results_over.best_params_)\\n\""
      ]
     },
     "execution_count": 24,
     "metadata": {},
     "output_type": "execute_result"
    }
   ],
   "source": [
    "sgd_clf = SGDClassifier(random_state=42)\n",
    "# define model evaluation method\n",
    "#---------------------------------- Posso considerare cv come un hyperparametro da inserire in Grid Search ?? ------------------\n",
    "#cv = StratifiedKFold(n_splits=10)\n",
    "\"\"\"\"\"\n",
    "cv = RepeatedStratifiedKFold(n_splits=5, n_repeats=3,random_state=1)\n",
    "# define grid\n",
    "grid = dict()\n",
    "grid['alpha'] = [0.0001, 0.001]\n",
    "grid['max_iter'] = [1000, 100000]\n",
    "#grid['tol'] = [0.001, 0.01, 0.1]\n",
    "# define search\n",
    "search = GridSearchCV(sgd_clf, grid, scoring='accuracy', cv=cv, n_jobs=-1)\n",
    "# perform the search\n",
    "results = search.fit(X_train, y_train)\n",
    "# summarize\n",
    "print('Mean Accuracy: %.3f' % results.best_score_)\n",
    "print('Config: %s' % results.best_params_)\n",
    "print(\"------------------------------------\")\n",
    "\"\"\"\n",
    "#cv = StratifiedKFold(n_splits=10)\n",
    "cv = RepeatedStratifiedKFold(n_splits=5, n_repeats=3,random_state=1)\n",
    "# define grid\n",
    "grid = dict()\n",
    "grid['alpha'] = [0.0001, 0.001]\n",
    "grid['max_iter'] = [1000, 100000]\n",
    "#grid['tol'] = [0.001, 0.01, 0.1]\n",
    "# define search\n",
    "search = GridSearchCV(sgd_clf, grid, scoring='recall', cv=cv, n_jobs=-1)\n",
    "results_under = search.fit(X_train_under, y_train_under)\n",
    "print('Mean recall Under Sampled: %.3f' % results_under.best_score_)\n",
    "print('Config: %s' % results_under.best_params_)\n",
    "print(\"------------------------------------\")\n",
    "\"\"\"\n",
    "#cv = StratifiedKFold(n_splits=10)\n",
    "cv = RepeatedStratifiedKFold(n_splits=5, n_repeats=3,random_state=1)\n",
    "# define grid\n",
    "grid = dict()\n",
    "grid['alpha'] = [0.0001, 0.001]\n",
    "grid['max_iter'] = [1000, 100000]\n",
    "#grid['tol'] = [0.001, 0.01, 0.1]\n",
    "# define search\n",
    "search = GridSearchCV(sgd_clf, grid, scoring='recall', cv=cv, n_jobs=-1)\n",
    "results_over = search.fit(X_train_over, y_train_over)\n",
    "print('Mean recall Over Sampled: %.3f' % results_over.best_score_)\n",
    "print('Config: %s' % results_over.best_params_)\n",
    "\"\"\""
   ]
  },
  {
   "cell_type": "code",
   "execution_count": 25,
   "metadata": {},
   "outputs": [
    {
     "data": {
      "text/plain": [
       "Text(0.5, 1.0, 'Support Gradient')"
      ]
     },
     "execution_count": 25,
     "metadata": {},
     "output_type": "execute_result"
    },
    {
     "data": {
      "image/png": "[encoded data removed]",
      "text/plain": [
       "<Figure size 432x288 with 2 Axes>"
      ]
     },
     "metadata": {
      "needs_background": "light"
     },
     "output_type": "display_data"
    }
   ],
   "source": [
    "y_train_sgd_predicted_under = cross_val_predict(sgd_clf, X_train_under, y_train_under, cv = 10)\n",
    "sns.heatmap(confusion_matrix(y_train_under,y_train_sgd_predicted_under),annot=True,fmt=\"g\",cmap='Blues_r')\n",
    "plt.ylabel('Actual Label')\n",
    "plt.xlabel('Predicted Label')\n",
    "plt.xticks([0.50,1.50],['Goodware','Malware'],fontsize=20)\n",
    "plt.yticks([0.50,1.50],['Goodware','Malware'],fontsize=20)\n",
    "plt.title(\"Support Gradient\", size = 25)"
   ]
  },
  {
   "cell_type": "markdown",
   "metadata": {},
   "source": [
    "### Logistic Regression"
   ]
  },
  {
   "cell_type": "code",
   "execution_count": 26,
   "metadata": {},
   "outputs": [
    {
     "name": "stdout",
     "output_type": "stream",
     "text": [
      "Mean recall Under Sampled: 0.675\n",
      "Config: {'C': 200, 'max_iter': 10000, 'solver': 'lbfgs'}\n",
      "------------------------------------\n"
     ]
    },
    {
     "data": {
      "text/plain": [
       "'\"\"\\n#cv = StratifiedKFold(n_splits=10)\\ncv = RepeatedStratifiedKFold(n_splits=5, n_repeats=3,random_state=1)\\n# define grid\\ngrid = dict()\\ngrid[\\'C\\'] = [100, 200]\\ngrid[\\'solver\\'] =[\\'lbfgs\\', \\'liblinear\\']\\ngrid[\\'max_iter\\'] = [10000]\\n# define search\\nsearch = GridSearchCV(logreg, grid, scoring=\\'recall\\', cv=cv, n_jobs=-1)\\nresults_over = search.fit(X_train_over, y_train_over)\\nprint(\\'Mean recall Over Sampled: %.3f\\' % results_over.best_score_)\\nprint(\\'Config: %s\\' % results_over.best_params_)\\n'"
      ]
     },
     "execution_count": 26,
     "metadata": {},
     "output_type": "execute_result"
    }
   ],
   "source": [
    "logreg = LogisticRegression(random_state=42)\n",
    "# define model evaluation method\n",
    "#---------------------------------- Posso considerare cv come un hyperparametro da inserire in Grid Search ?? ------------------\n",
    "#cv = StratifiedKFold(n_splits=10)\n",
    "\"\"\"\"\"\n",
    "cv = RepeatedStratifiedKFold(n_splits=5, n_repeats=3,random_state=1)\n",
    "# define grid\n",
    "grid = dict()\n",
    "grid['C'] = [100, 200]\n",
    "grid['solver'] =['lbfgs', 'liblinear']\n",
    "grid['max_iter'] = [1000]\n",
    "\n",
    "#grid['tol'] = [0.001, 0.01, 0.1]\n",
    "# define search\n",
    "search = GridSearchCV(logreg, grid, scoring='recall', cv=cv, n_jobs=-1)\n",
    "# perform the search\n",
    "results = search.fit(X_train, y_train)\n",
    "# summarize\n",
    "print('Mean recall: %.3f' % results.best_score_)\n",
    "print('Config: %s' % results.best_params_)\n",
    "print(\"------------------------------------\")\n",
    "\"\"\"\n",
    "#cv = StratifiedKFold(n_splits=10)\n",
    "cv = RepeatedStratifiedKFold(n_splits=5, n_repeats=3,random_state=1)\n",
    "# define grid\n",
    "grid = dict()\n",
    "grid['C'] = [100, 200, 500, 1000]\n",
    "grid['solver'] =['lbfgs', 'liblinear']\n",
    "grid['max_iter'] = [10000]\n",
    "# define search\n",
    "search = GridSearchCV(logreg, grid, scoring='recall', cv=cv, n_jobs=-1)\n",
    "results_under = search.fit(X_train_under, y_train_under)\n",
    "print('Mean recall Under Sampled: %.3f' % results_under.best_score_)\n",
    "print('Config: %s' % results_under.best_params_)\n",
    "print(\"------------------------------------\")\n",
    "\n",
    "\"\"\"\"\n",
    "#cv = StratifiedKFold(n_splits=10)\n",
    "cv = RepeatedStratifiedKFold(n_splits=5, n_repeats=3,random_state=1)\n",
    "# define grid\n",
    "grid = dict()\n",
    "grid['C'] = [100, 200]\n",
    "grid['solver'] =['lbfgs', 'liblinear']\n",
    "grid['max_iter'] = [10000]\n",
    "# define search\n",
    "search = GridSearchCV(logreg, grid, scoring='recall', cv=cv, n_jobs=-1)\n",
    "results_over = search.fit(X_train_over, y_train_over)\n",
    "print('Mean recall Over Sampled: %.3f' % results_over.best_score_)\n",
    "print('Config: %s' % results_over.best_params_)\n",
    "\"\"\""
   ]
  },
  {
   "cell_type": "code",
   "execution_count": 27,
   "metadata": {},
   "outputs": [
    {
     "name": "stderr",
     "output_type": "stream",
     "text": [
      "/Users/pmarincola/opt/anaconda3/envs/dse_ml_project/lib/python3.9/site-packages/sklearn/linear_model/_logistic.py:814: ConvergenceWarning: lbfgs failed to converge (status=1):\n",
      "STOP: TOTAL NO. of ITERATIONS REACHED LIMIT.\n",
      "\n",
      "Increase the number of iterations (max_iter) or scale the data as shown in:\n",
      "    https://scikit-learn.org/stable/modules/preprocessing.html\n",
      "Please also refer to the documentation for alternative solver options:\n",
      "    https://scikit-learn.org/stable/modules/linear_model.html#logistic-regression\n",
      "  n_iter_i = _check_optimize_result(\n",
      "/Users/pmarincola/opt/anaconda3/envs/dse_ml_project/lib/python3.9/site-packages/sklearn/linear_model/_logistic.py:814: ConvergenceWarning: lbfgs failed to converge (status=1):\n",
      "STOP: TOTAL NO. of ITERATIONS REACHED LIMIT.\n",
      "\n",
      "Increase the number of iterations (max_iter) or scale the data as shown in:\n",
      "    https://scikit-learn.org/stable/modules/preprocessing.html\n",
      "Please also refer to the documentation for alternative solver options:\n",
      "    https://scikit-learn.org/stable/modules/linear_model.html#logistic-regression\n",
      "  n_iter_i = _check_optimize_result(\n",
      "/Users/pmarincola/opt/anaconda3/envs/dse_ml_project/lib/python3.9/site-packages/sklearn/linear_model/_logistic.py:814: ConvergenceWarning: lbfgs failed to converge (status=1):\n",
      "STOP: TOTAL NO. of ITERATIONS REACHED LIMIT.\n",
      "\n",
      "Increase the number of iterations (max_iter) or scale the data as shown in:\n",
      "    https://scikit-learn.org/stable/modules/preprocessing.html\n",
      "Please also refer to the documentation for alternative solver options:\n",
      "    https://scikit-learn.org/stable/modules/linear_model.html#logistic-regression\n",
      "  n_iter_i = _check_optimize_result(\n",
      "/Users/pmarincola/opt/anaconda3/envs/dse_ml_project/lib/python3.9/site-packages/sklearn/linear_model/_logistic.py:814: ConvergenceWarning: lbfgs failed to converge (status=1):\n",
      "STOP: TOTAL NO. of ITERATIONS REACHED LIMIT.\n",
      "\n",
      "Increase the number of iterations (max_iter) or scale the data as shown in:\n",
      "    https://scikit-learn.org/stable/modules/preprocessing.html\n",
      "Please also refer to the documentation for alternative solver options:\n",
      "    https://scikit-learn.org/stable/modules/linear_model.html#logistic-regression\n",
      "  n_iter_i = _check_optimize_result(\n",
      "/Users/pmarincola/opt/anaconda3/envs/dse_ml_project/lib/python3.9/site-packages/sklearn/linear_model/_logistic.py:814: ConvergenceWarning: lbfgs failed to converge (status=1):\n",
      "STOP: TOTAL NO. of ITERATIONS REACHED LIMIT.\n",
      "\n",
      "Increase the number of iterations (max_iter) or scale the data as shown in:\n",
      "    https://scikit-learn.org/stable/modules/preprocessing.html\n",
      "Please also refer to the documentation for alternative solver options:\n",
      "    https://scikit-learn.org/stable/modules/linear_model.html#logistic-regression\n",
      "  n_iter_i = _check_optimize_result(\n",
      "/Users/pmarincola/opt/anaconda3/envs/dse_ml_project/lib/python3.9/site-packages/sklearn/linear_model/_logistic.py:814: ConvergenceWarning: lbfgs failed to converge (status=1):\n",
      "STOP: TOTAL NO. of ITERATIONS REACHED LIMIT.\n",
      "\n",
      "Increase the number of iterations (max_iter) or scale the data as shown in:\n",
      "    https://scikit-learn.org/stable/modules/preprocessing.html\n",
      "Please also refer to the documentation for alternative solver options:\n",
      "    https://scikit-learn.org/stable/modules/linear_model.html#logistic-regression\n",
      "  n_iter_i = _check_optimize_result(\n",
      "/Users/pmarincola/opt/anaconda3/envs/dse_ml_project/lib/python3.9/site-packages/sklearn/linear_model/_logistic.py:814: ConvergenceWarning: lbfgs failed to converge (status=1):\n",
      "STOP: TOTAL NO. of ITERATIONS REACHED LIMIT.\n",
      "\n",
      "Increase the number of iterations (max_iter) or scale the data as shown in:\n",
      "    https://scikit-learn.org/stable/modules/preprocessing.html\n",
      "Please also refer to the documentation for alternative solver options:\n",
      "    https://scikit-learn.org/stable/modules/linear_model.html#logistic-regression\n",
      "  n_iter_i = _check_optimize_result(\n",
      "/Users/pmarincola/opt/anaconda3/envs/dse_ml_project/lib/python3.9/site-packages/sklearn/linear_model/_logistic.py:814: ConvergenceWarning: lbfgs failed to converge (status=1):\n",
      "STOP: TOTAL NO. of ITERATIONS REACHED LIMIT.\n",
      "\n",
      "Increase the number of iterations (max_iter) or scale the data as shown in:\n",
      "    https://scikit-learn.org/stable/modules/preprocessing.html\n",
      "Please also refer to the documentation for alternative solver options:\n",
      "    https://scikit-learn.org/stable/modules/linear_model.html#logistic-regression\n",
      "  n_iter_i = _check_optimize_result(\n",
      "/Users/pmarincola/opt/anaconda3/envs/dse_ml_project/lib/python3.9/site-packages/sklearn/linear_model/_logistic.py:814: ConvergenceWarning: lbfgs failed to converge (status=1):\n",
      "STOP: TOTAL NO. of ITERATIONS REACHED LIMIT.\n",
      "\n",
      "Increase the number of iterations (max_iter) or scale the data as shown in:\n",
      "    https://scikit-learn.org/stable/modules/preprocessing.html\n",
      "Please also refer to the documentation for alternative solver options:\n",
      "    https://scikit-learn.org/stable/modules/linear_model.html#logistic-regression\n",
      "  n_iter_i = _check_optimize_result(\n",
      "/Users/pmarincola/opt/anaconda3/envs/dse_ml_project/lib/python3.9/site-packages/sklearn/linear_model/_logistic.py:814: ConvergenceWarning: lbfgs failed to converge (status=1):\n",
      "STOP: TOTAL NO. of ITERATIONS REACHED LIMIT.\n",
      "\n",
      "Increase the number of iterations (max_iter) or scale the data as shown in:\n",
      "    https://scikit-learn.org/stable/modules/preprocessing.html\n",
      "Please also refer to the documentation for alternative solver options:\n",
      "    https://scikit-learn.org/stable/modules/linear_model.html#logistic-regression\n",
      "  n_iter_i = _check_optimize_result(\n"
     ]
    },
    {
     "data": {
      "text/plain": [
       "Text(0.5, 1.0, 'Logistic Regression')"
      ]
     },
     "execution_count": 27,
     "metadata": {},
     "output_type": "execute_result"
    },
    {
     "data": {
      "image/png": "[encoded data removed]",
      "text/plain": [
       "<Figure size 432x288 with 2 Axes>"
      ]
     },
     "metadata": {
      "needs_background": "light"
     },
     "output_type": "display_data"
    }
   ],
   "source": [
    "y_train_logreg_predicted_under = cross_val_predict(logreg, X_train_under, y_train_under, cv = 10)\n",
    "sns.heatmap(confusion_matrix(y_train_under,y_train_logreg_predicted_under),annot=True,fmt=\"g\",cmap='Blues_r')\n",
    "plt.ylabel('Actual Label')\n",
    "plt.xlabel('Predicted Label')\n",
    "plt.xticks([0.50,1.50],['Goodware','Malware'],fontsize=20)\n",
    "plt.yticks([0.50,1.50],['Goodware','Malware'],fontsize=20)\n",
    "plt.title(\"Logistic Regression\", size = 25)\n"
   ]
  },
  {
   "cell_type": "markdown",
   "metadata": {},
   "source": [
    "General consideration about Image recognition: problem with Linear classifier such as SGD "
   ]
  },
  {
   "cell_type": "markdown",
   "metadata": {},
   "source": [
    "# Metrics (Test for ROC Curve)\n",
    "\n",
    "Recall - Best for our case because I want to reduce False Negative (and accept False positive)\n",
    "\n",
    "Learning curve"
   ]
  },
  {
   "cell_type": "markdown",
   "metadata": {},
   "source": [
    "Precision/Recall curve"
   ]
  },
  {
   "cell_type": "code",
   "execution_count": null,
   "metadata": {},
   "outputs": [],
   "source": [
    "#SGD learning curve\n",
    "y_scores = cross_val_predict(sgd_clf, X_train_under,y_train_under, cv=3,method=\"decision_function\")\n",
    "precisions, recalls, tresholds = precision_recall_curve(y_train_under,y_scores)\n",
    "fig_sgd = plt.figure(figsize=(13,7))\n",
    "ax = fig_sgd.add_subplot()\n",
    "ax.plot(tresholds, precisions[:-1], 'r', label = 'precision')\n",
    "ax.plot(tresholds, recalls[:-1], 'b', label = 'recall')\n",
    "ax.title.set_text('SGD Learning curve')\n",
    "ax.legend(fontsize=20)"
   ]
  },
  {
   "cell_type": "code",
   "execution_count": null,
   "metadata": {},
   "outputs": [],
   "source": [
    "fig_sgd = plt.figure(figsize=(13,7))\n",
    "ax = fig_sgd.add_subplot()\n",
    "ax.plot(recalls[:-1], precisions[:-1], 'r', label = 'precision', lw = 7)\n",
    "ax.title.set_text('SGD Precision vs Recall')\n",
    "ax.set_xlabel(\"Recall\")\n",
    "ax.set_ylabel(\"Precision\")"
   ]
  },
  {
   "cell_type": "code",
   "execution_count": null,
   "metadata": {},
   "outputs": [],
   "source": [
    "#fpr, tpr, tresholds = roc_curve(y_train_malw, y_scores)\n",
    "fpr, tpr, tresholds = roc_curve(y_train_under, y_scores)"
   ]
  },
  {
   "cell_type": "code",
   "execution_count": null,
   "metadata": {},
   "outputs": [],
   "source": [
    "def plot_roc_curve(fpr,tpr, label = None):\n",
    "    plt.plot(fpr, tpr, linewidth=2, label = label)\n",
    "    plt.plot([0,1],[0,1], \"k--\")\n",
    "    ax.set_xlabel(\"FPR\")\n",
    "    ax.set_ylabel(\"TPR\")\n",
    "    ax.legend(fontsize=20)\n",
    "    plt.grid()\n",
    "plot_roc_curve(fpr, tpr)\n",
    "plt.show()\n"
   ]
  },
  {
   "cell_type": "markdown",
   "metadata": {},
   "source": [
    "Roc curve should be preferred than precision /recall curve because we care more about false negative than false positives"
   ]
  },
  {
   "cell_type": "code",
   "execution_count": null,
   "metadata": {},
   "outputs": [],
   "source": [
    "#roc_auc_score(y_train_malw, y_scores)\n",
    "roc_auc_score(y_train_under, y_scores)"
   ]
  },
  {
   "cell_type": "markdown",
   "metadata": {},
   "source": [
    "# Ensamble classify method"
   ]
  },
  {
   "cell_type": "code",
   "execution_count": 8,
   "metadata": {},
   "outputs": [],
   "source": [
    "def visualize_ensemble_performance(ax, X, y, scores, scoring):\n",
    "    data_score = []\n",
    "    labels = []\n",
    "    for clf in scores['estimator'][0].estimators_:\n",
    "        scores_clf = cross_validate(clf, X, y,\n",
    "                        cv = StratifiedShuffleSplit(n_splits=20, test_size=0.2, random_state=42),\n",
    "                        return_train_score= True,\n",
    "                        scoring = scoring,\n",
    "                        n_jobs=-1)\n",
    "        data_score.extend([scores_clf[t+s] for s in scoring for t in ['train_','test_']])\n",
    "        labels.extend([clf.__class__.__name__+'_'+t+s for s in scoring for t in ['train_','test_']])\n",
    "    data_score.extend([scores[t+s] for s in scoring for t in ['train_','test_']])\n",
    "    labels.extend(['Voting_'+t+s for s in scoring for t in ['train_','test_']])\n",
    "    sns.boxplot(ax = ax,\n",
    "                data = data_score,\n",
    "                whis = [5, 95],\n",
    "                palette = \"vlag\",\n",
    "                orient = 'h'\n",
    "               )\n",
    "    ax.set(yticklabels=labels)"
   ]
  },
  {
   "cell_type": "code",
   "execution_count": 32,
   "metadata": {},
   "outputs": [],
   "source": [
    "logreg = LogisticRegression(C=500,max_iter=10000, solver='liblinear',random_state=42)\n",
    "sgd_clf = SGDClassifier(alpha=0.01,max_iter=1000, random_state=42)\n",
    "\n",
    "voting_clf = VotingClassifier(\n",
    "    estimators=[('log_reg', logreg), ('sgd', sgd_clf)],\n",
    "    voting='hard')"
   ]
  },
  {
   "cell_type": "code",
   "execution_count": 33,
   "metadata": {},
   "outputs": [],
   "source": [
    "scores = cross_validate(voting_clf, X_train_under, y_train_under,\n",
    "                        cv = StratifiedShuffleSplit(n_splits=20, test_size=0.2, random_state=42),\n",
    "                        return_estimator = True,\n",
    "                        return_train_score= True,\n",
    "                        scoring = ['recall'],\n",
    "                        n_jobs=-1)"
   ]
  },
  {
   "cell_type": "code",
   "execution_count": 34,
   "metadata": {},
   "outputs": [
    {
     "data": {
      "image/png": "[encoded data removed]",
      "text/plain": [
       "<Figure size 864x576 with 1 Axes>"
      ]
     },
     "metadata": {
      "needs_background": "light"
     },
     "output_type": "display_data"
    }
   ],
   "source": [
    "fig = plt.figure(figsize=(12,8))\n",
    "ax = fig.add_subplot()\n",
    "visualize_ensemble_performance(ax, X_train_under, y_train_under, scores, ['recall'])"
   ]
  },
  {
   "cell_type": "markdown",
   "metadata": {},
   "source": [
    "better with additional cls (like randomForest)"
   ]
  },
  {
   "cell_type": "markdown",
   "metadata": {},
   "source": [
    "# Random Forest Classifier \n",
    "\n",
    "instead of use DecisiontreeClassifier with bagging it is preferred to use RandomForest"
   ]
  },
  {
   "cell_type": "code",
   "execution_count": 28,
   "metadata": {},
   "outputs": [],
   "source": [
    "forest_clf = RandomForestClassifier(random_state=42)\n",
    "#y_probas_forest = cross_val_predict(forest_clf, X_train,y_train_malw, cv= 3, method=\"predict_proba\")\n",
    "y_probas_forest = cross_val_predict(forest_clf, X_train_under,y_train_under, cv= 3, method=\"predict_proba\")"
   ]
  },
  {
   "cell_type": "code",
   "execution_count": 29,
   "metadata": {},
   "outputs": [],
   "source": [
    "y_scores_forest = y_probas_forest[:, 1]\n",
    "#fpr_forest, tpr_forest, tresholds_forest = roc_curve(y_train_malw, y_scores_forest)\n",
    "fpr_forest, tpr_forest, tresholds_forest = roc_curve(y_train_under, y_scores_forest)"
   ]
  },
  {
   "cell_type": "code",
   "execution_count": 30,
   "metadata": {},
   "outputs": [
    {
     "data": {
      "text/plain": [
       "Text(0.5, 1.0, 'Random Forest')"
      ]
     },
     "execution_count": 30,
     "metadata": {},
     "output_type": "execute_result"
    },
    {
     "data": {
      "image/png": "[encoded data removed]",
      "text/plain": [
       "<Figure size 432x288 with 2 Axes>"
      ]
     },
     "metadata": {
      "needs_background": "light"
     },
     "output_type": "display_data"
    }
   ],
   "source": [
    "y_train_rf_predicted_under = cross_val_predict(forest_clf, X_train_under, y_train_under, cv = 10)\n",
    "sns.heatmap(confusion_matrix(y_train_under,y_train_rf_predicted_under),annot=True,fmt=\"g\",cmap='Blues_r')\n",
    "plt.ylabel('Actual Label')\n",
    "plt.xlabel('Predicted Label')\n",
    "plt.xticks([0.50,1.50],['Goodware','Malware'],fontsize=20)\n",
    "plt.yticks([0.50,1.50],['Goodware','Malware'],fontsize=20)\n",
    "plt.title(\"Random Forest\", size = 25)"
   ]
  },
  {
   "cell_type": "code",
   "execution_count": null,
   "metadata": {},
   "outputs": [],
   "source": [
    "#roc_auc_score(y_train_under,y_scores_forest)"
   ]
  },
  {
   "cell_type": "code",
   "execution_count": 31,
   "metadata": {},
   "outputs": [
    {
     "name": "stdout",
     "output_type": "stream",
     "text": [
      "Mean recall Under Sampled: 0.875\n",
      "Config: {'metric': 'minkowski', 'n_neighbors': 7, 'p': 2}\n",
      "------------------------------------\n"
     ]
    }
   ],
   "source": [
    "knn = KNeighborsClassifier(n_neighbors=7)\n",
    "cv = RepeatedStratifiedKFold(n_splits=5, n_repeats=3,random_state=1)\n",
    "# define grid\n",
    "grid = dict()\n",
    "grid['n_neighbors'] = [7,20]\n",
    "grid['metric'] =['minkowski']\n",
    "grid['p'] = [2]\n",
    "# define search\n",
    "search = GridSearchCV(knn, grid, scoring='recall', cv=cv, n_jobs=-1)\n",
    "results_under = search.fit(X_train_under, y_train_under)\n",
    "print('Mean recall Under Sampled: %.3f' % results_under.best_score_)\n",
    "print('Config: %s' % results_under.best_params_)\n",
    "print(\"------------------------------------\")"
   ]
  },
  {
   "cell_type": "code",
   "execution_count": 32,
   "metadata": {},
   "outputs": [
    {
     "data": {
      "text/plain": [
       "Text(0.5, 1.0, 'KNeighbors')"
      ]
     },
     "execution_count": 32,
     "metadata": {},
     "output_type": "execute_result"
    },
    {
     "data": {
      "image/png": "[encoded data removed]",
      "text/plain": [
       "<Figure size 432x288 with 2 Axes>"
      ]
     },
     "metadata": {
      "needs_background": "light"
     },
     "output_type": "display_data"
    }
   ],
   "source": [
    "y_train_kn_predicted_under = cross_val_predict(knn, X_train_under, y_train_under, cv = 10)\n",
    "sns.heatmap(confusion_matrix(y_train_under,y_train_kn_predicted_under),annot=True,fmt=\"g\",cmap='Blues_r')\n",
    "plt.ylabel('Actual Label')\n",
    "plt.xlabel('Predicted Label')\n",
    "plt.xticks([0.50,1.50],['Goodware','Malware'],fontsize=20)\n",
    "plt.yticks([0.50,1.50],['Goodware','Malware'],fontsize=20)\n",
    "plt.title(\"KNeighbors\", size = 25)"
   ]
  },
  {
   "cell_type": "code",
   "execution_count": 42,
   "metadata": {},
   "outputs": [
    {
     "name": "stdout",
     "output_type": "stream",
     "text": [
      "Mean recall: 1.000\n",
      "Config: {'metric': 'minkowski', 'n_neighbors': 7, 'p': 2}\n",
      "------------------------------------\n"
     ]
    }
   ],
   "source": [
    "#KNN using original X_train and y_train (w/o under over sampling)\n",
    "knn_complete = KNeighborsClassifier(n_neighbors=7)\n",
    "cv = RepeatedStratifiedKFold(n_splits=5, n_repeats=3,random_state=1)\n",
    "# define grid\n",
    "grid = dict()\n",
    "grid['n_neighbors'] = [7,20]\n",
    "grid['metric'] =['minkowski']\n",
    "grid['p'] = [2]\n",
    "# define search\n",
    "search = GridSearchCV(knn_complete, grid, scoring='recall', cv=cv, n_jobs=-1)\n",
    "results = search.fit(X_train, y_train)\n",
    "print('Mean recall: %.3f' % results.best_score_)\n",
    "print('Config: %s' % results.best_params_)\n",
    "print(\"------------------------------------\")"
   ]
  },
  {
   "cell_type": "code",
   "execution_count": 43,
   "metadata": {},
   "outputs": [
    {
     "data": {
      "text/plain": [
       "Text(0.5, 1.0, 'KNeighbors')"
      ]
     },
     "execution_count": 43,
     "metadata": {},
     "output_type": "execute_result"
    },
    {
     "data": {
      "image/png": "[encoded data removed]",
      "text/plain": [
       "<Figure size 432x288 with 2 Axes>"
      ]
     },
     "metadata": {
      "needs_background": "light"
     },
     "output_type": "display_data"
    }
   ],
   "source": [
    "y_train_kn_predicted = cross_val_predict(knn_complete, X_train, y_train, cv = 10)\n",
    "sns.heatmap(confusion_matrix(y_train,y_train_kn_predicted),annot=True,fmt=\"g\",cmap='Blues_r')\n",
    "plt.ylabel('Actual Label')\n",
    "plt.xlabel('Predicted Label')\n",
    "plt.xticks([0.50,1.50],['Goodware','Malware'],fontsize=20)\n",
    "plt.yticks([0.50,1.50],['Goodware','Malware'],fontsize=20)\n",
    "plt.title(\"KNeighbors\", size = 25)"
   ]
  },
  {
   "cell_type": "markdown",
   "metadata": {},
   "source": [
    "### good result for False negative but high for false positive"
   ]
  },
  {
   "cell_type": "code",
   "execution_count": 44,
   "metadata": {},
   "outputs": [
    {
     "data": {
      "text/plain": [
       "array([1, 1, 1, ..., 1, 1, 1])"
      ]
     },
     "execution_count": 44,
     "metadata": {},
     "output_type": "execute_result"
    }
   ],
   "source": [
    "knn_complete.fit(X_train,y_train)\n",
    "y_pred_knn_complete = knn_complete.predict(X_test)\n",
    "y_pred_knn_complete"
   ]
  },
  {
   "cell_type": "code",
   "execution_count": 45,
   "metadata": {},
   "outputs": [
    {
     "name": "stdout",
     "output_type": "stream",
     "text": [
      "              precision    recall  f1-score   support\n",
      "\n",
      "           0       0.00      0.00      0.00         0\n",
      "           1       1.00      0.95      0.97     15588\n",
      "\n",
      "    accuracy                           0.95     15588\n",
      "   macro avg       0.50      0.48      0.49     15588\n",
      "weighted avg       1.00      0.95      0.97     15588\n",
      "\n"
     ]
    },
    {
     "name": "stderr",
     "output_type": "stream",
     "text": [
      "/Users/pmarincola/opt/anaconda3/envs/dse_ml_project/lib/python3.9/site-packages/sklearn/metrics/_classification.py:1318: UndefinedMetricWarning: Recall and F-score are ill-defined and being set to 0.0 in labels with no true samples. Use `zero_division` parameter to control this behavior.\n",
      "  _warn_prf(average, modifier, msg_start, len(result))\n",
      "/Users/pmarincola/opt/anaconda3/envs/dse_ml_project/lib/python3.9/site-packages/sklearn/metrics/_classification.py:1318: UndefinedMetricWarning: Recall and F-score are ill-defined and being set to 0.0 in labels with no true samples. Use `zero_division` parameter to control this behavior.\n",
      "  _warn_prf(average, modifier, msg_start, len(result))\n",
      "/Users/pmarincola/opt/anaconda3/envs/dse_ml_project/lib/python3.9/site-packages/sklearn/metrics/_classification.py:1318: UndefinedMetricWarning: Recall and F-score are ill-defined and being set to 0.0 in labels with no true samples. Use `zero_division` parameter to control this behavior.\n",
      "  _warn_prf(average, modifier, msg_start, len(result))\n"
     ]
    }
   ],
   "source": [
    "accuracy_score(y_pred_knn_complete,y_test)\n",
    "print(classification_report(y_pred_knn_complete,y_test))"
   ]
  },
  {
   "cell_type": "markdown",
   "metadata": {},
   "source": [
    "# Conclusion: \n"
   ]
  }
 ],
 "metadata": {
  "interpreter": {
   "hash": "66e36499309382ea5ef5e94aa6f5b9b918dcd63b5157b8b253095a3d50349180"
  },
  "kernelspec": {
   "display_name": "Python 3.9.7 ('dse_ml_project')",
   "language": "python",
   "name": "python3"
  },
  "language_info": {
   "codemirror_mode": {
    "name": "ipython",
    "version": 3
   },
   "file_extension": ".py",
   "mimetype": "text/x-python",
   "name": "python",
   "nbconvert_exporter": "python",
   "pygments_lexer": "ipython3",
   "version": "3.9.7"
  },
  "orig_nbformat": 4
 },
 "nbformat": 4,
 "nbformat_minor": 2
}
