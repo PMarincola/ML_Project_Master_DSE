{
 "cells": [
  {
   "cell_type": "markdown",
   "metadata": {},
   "source": [
    "# Project Master DS\n",
    "Malware binary classification\n",
    "\n",
    "Pietro Marincola\n",
    "\n",
    "https://ieee-dataport.org/open-access/malware-analysis-datasets-raw-pe-image"
   ]
  },
  {
   "cell_type": "code",
   "execution_count": 37,
   "metadata": {},
   "outputs": [],
   "source": [
    "#Libraries\n",
    "# importing necessary libraries\n",
    "import pandas as pd\n",
    "import numpy as np\n",
    "from collections import Counter\n",
    "# To convert to categorical data\n",
    "from tensorflow.keras.utils import to_categorical\n",
    "\n",
    "from sklearn.model_selection import GridSearchCV, train_test_split\n",
    "\n",
    "from imblearn.over_sampling import RandomOverSampler \n",
    "from imblearn.under_sampling import RepeatedEditedNearestNeighbours,RandomUnderSampler\n",
    "\n",
    "#libraries for building model\n",
    "from tensorflow.keras.models import Sequential\n",
    "from tensorflow.keras.layers import Dense, Conv2D, MaxPool2D, Dropout,Flatten\n",
    "from tensorflow.keras.datasets import cifar10\n",
    "\n",
    "\n",
    "from tensorflow import keras\n",
    "\n",
    "# Visualization\n",
    "import seaborn as sns\n",
    "import matplotlib.pyplot as plt\n",
    "import matplotlib as mpl\n",
    "%matplotlib inline"
   ]
  },
  {
   "cell_type": "markdown",
   "metadata": {},
   "source": [
    "# Dataset"
   ]
  },
  {
   "cell_type": "code",
   "execution_count": 32,
   "metadata": {},
   "outputs": [],
   "source": [
    "orig_visual_malware_dataset = pd.read_csv('./raw_pe_images.csv')"
   ]
  },
  {
   "cell_type": "markdown",
   "metadata": {},
   "source": [
    "## Dataset info & pre-processing\n",
    "- hash feature = malware id\n",
    "- pixel features= 1024 because of conversion 32 x 32 greyscale image\n",
    "- flattened to a 1024 bytes vector\n",
    "- label feature = malware\n",
    "\n",
    "- Column name: malware\n",
    "Description: Class\n",
    "Type: 0 (Goodware) or 1 (Malware)\n",
    "- Stratification: not balance between classes\n",
    "- inbalance classes - use imblearn\n"
   ]
  },
  {
   "cell_type": "code",
   "execution_count": 9,
   "metadata": {},
   "outputs": [
    {
     "name": "stdout",
     "output_type": "stream",
     "text": [
      "<class 'pandas.core.frame.DataFrame'>\n",
      "RangeIndex: 51959 entries, 0 to 51958\n",
      "Columns: 1026 entries, hash to malware\n",
      "dtypes: int64(1025), object(1)\n",
      "memory usage: 406.7+ MB\n"
     ]
    }
   ],
   "source": [
    "orig_visual_malware_dataset.info()"
   ]
  },
  {
   "cell_type": "markdown",
   "metadata": {},
   "source": [
    "### General"
   ]
  },
  {
   "cell_type": "code",
   "execution_count": 33,
   "metadata": {},
   "outputs": [
    {
     "data": {
      "text/html": [
       "<div>\n",
       "<style scoped>\n",
       "    .dataframe tbody tr th:only-of-type {\n",
       "        vertical-align: middle;\n",
       "    }\n",
       "\n",
       "    .dataframe tbody tr th {\n",
       "        vertical-align: top;\n",
       "    }\n",
       "\n",
       "    .dataframe thead th {\n",
       "        text-align: right;\n",
       "    }\n",
       "</style>\n",
       "<table border=\"1\" class=\"dataframe\">\n",
       "  <thead>\n",
       "    <tr style=\"text-align: right;\">\n",
       "      <th></th>\n",
       "      <th>pix_0</th>\n",
       "      <th>pix_1</th>\n",
       "      <th>pix_2</th>\n",
       "      <th>pix_3</th>\n",
       "      <th>pix_4</th>\n",
       "      <th>pix_5</th>\n",
       "      <th>pix_6</th>\n",
       "      <th>pix_7</th>\n",
       "      <th>pix_8</th>\n",
       "      <th>pix_9</th>\n",
       "      <th>...</th>\n",
       "      <th>pix_1014</th>\n",
       "      <th>pix_1015</th>\n",
       "      <th>pix_1016</th>\n",
       "      <th>pix_1017</th>\n",
       "      <th>pix_1018</th>\n",
       "      <th>pix_1019</th>\n",
       "      <th>pix_1020</th>\n",
       "      <th>pix_1021</th>\n",
       "      <th>pix_1022</th>\n",
       "      <th>pix_1023</th>\n",
       "    </tr>\n",
       "  </thead>\n",
       "  <tbody>\n",
       "    <tr>\n",
       "      <th>0</th>\n",
       "      <td>15</td>\n",
       "      <td>15</td>\n",
       "      <td>239</td>\n",
       "      <td>15</td>\n",
       "      <td>223</td>\n",
       "      <td>36</td>\n",
       "      <td>102</td>\n",
       "      <td>243</td>\n",
       "      <td>102</td>\n",
       "      <td>102</td>\n",
       "      <td>...</td>\n",
       "      <td>255</td>\n",
       "      <td>31</td>\n",
       "      <td>242</td>\n",
       "      <td>245</td>\n",
       "      <td>169</td>\n",
       "      <td>212</td>\n",
       "      <td>17</td>\n",
       "      <td>255</td>\n",
       "      <td>160</td>\n",
       "      <td>122</td>\n",
       "    </tr>\n",
       "    <tr>\n",
       "      <th>1</th>\n",
       "      <td>234</td>\n",
       "      <td>196</td>\n",
       "      <td>8</td>\n",
       "      <td>20</td>\n",
       "      <td>182</td>\n",
       "      <td>56</td>\n",
       "      <td>27</td>\n",
       "      <td>223</td>\n",
       "      <td>144</td>\n",
       "      <td>255</td>\n",
       "      <td>...</td>\n",
       "      <td>213</td>\n",
       "      <td>189</td>\n",
       "      <td>228</td>\n",
       "      <td>156</td>\n",
       "      <td>54</td>\n",
       "      <td>189</td>\n",
       "      <td>82</td>\n",
       "      <td>177</td>\n",
       "      <td>125</td>\n",
       "      <td>193</td>\n",
       "    </tr>\n",
       "  </tbody>\n",
       "</table>\n",
       "<p>2 rows × 1024 columns</p>\n",
       "</div>"
      ],
      "text/plain": [
       "   pix_0  pix_1  pix_2  pix_3  pix_4  pix_5  pix_6  pix_7  pix_8  pix_9  ...  \\\n",
       "0     15     15    239     15    223     36    102    243    102    102  ...   \n",
       "1    234    196      8     20    182     56     27    223    144    255  ...   \n",
       "\n",
       "   pix_1014  pix_1015  pix_1016  pix_1017  pix_1018  pix_1019  pix_1020  \\\n",
       "0       255        31       242       245       169       212        17   \n",
       "1       213       189       228       156        54       189        82   \n",
       "\n",
       "   pix_1021  pix_1022  pix_1023  \n",
       "0       255       160       122  \n",
       "1       177       125       193  \n",
       "\n",
       "[2 rows x 1024 columns]"
      ]
     },
     "execution_count": 33,
     "metadata": {},
     "output_type": "execute_result"
    }
   ],
   "source": [
    "#create label dataset\n",
    "visual_malware_label = orig_visual_malware_dataset['malware']\n",
    "#remove unecessary columns\n",
    "visual_malware_dataset = orig_visual_malware_dataset.drop(['hash','malware'], axis=1)\n",
    "visual_malware_dataset.head(2)"
   ]
  },
  {
   "cell_type": "markdown",
   "metadata": {},
   "source": [
    "### Under & Over Sampler"
   ]
  },
  {
   "cell_type": "code",
   "execution_count": 34,
   "metadata": {},
   "outputs": [
    {
     "name": "stdout",
     "output_type": "stream",
     "text": [
      "Resampled dataset shape Counter({0: 1808, 1: 1808})\n",
      "Resampled dataset shape Counter({1: 34563, 0: 34563})\n"
     ]
    }
   ],
   "source": [
    "X_train, X_test, y_train, y_test = train_test_split(visual_malware_dataset, visual_malware_label,\n",
    "                                                    test_size = 0.3,\n",
    "                                                    random_state = 42,\n",
    "                                                    shuffle= True,\n",
    "                                                    stratify=visual_malware_label)\n",
    "#Under\n",
    "rus = RandomUnderSampler(random_state=0, replacement=True)\n",
    "X_train_under, y_train_under = rus.fit_resample(X_train, y_train)\n",
    "print('Resampled dataset shape %s' % Counter(y_train_under))\n",
    "#Over\n",
    "ros = RandomOverSampler(random_state=42)\n",
    "X_train_over, y_train_over = ros.fit_resample(X_train, y_train)\n",
    "print('Resampled dataset shape %s' % Counter(y_train_over))"
   ]
  },
  {
   "cell_type": "code",
   "execution_count": 67,
   "metadata": {},
   "outputs": [
    {
     "name": "stdout",
     "output_type": "stream",
     "text": [
      "X_train: (3616, 1024)\n",
      "y_train: (3616,)\n",
      "X_test: (15588, 1024)\n",
      "y_test: (15588,)\n"
     ]
    }
   ],
   "source": [
    "print('X_train:', X_train_under.shape)\n",
    "print('y_train:', y_train_under.shape)\n",
    "print('X_test:', X_test.shape)\n",
    "print('y_test:', y_test.shape)"
   ]
  },
  {
   "cell_type": "code",
   "execution_count": 35,
   "metadata": {},
   "outputs": [
    {
     "name": "stdout",
     "output_type": "stream",
     "text": [
      "         pix_0     pix_1     pix_2     pix_3     pix_4     pix_5     pix_6  \\\n",
      "0     0.000000  0.250980  0.458824  0.721569  0.031373  0.513725  0.000000   \n",
      "1     0.000000  0.000000  0.454902  0.000000  0.000000  0.000000  0.000000   \n",
      "2     0.729412  0.466667  0.117647  0.466667  0.607843  0.466667  0.921569   \n",
      "3     0.192157  0.000000  0.411765  0.447059  0.411765  0.298039  0.423529   \n",
      "4     0.784314  0.023529  0.513725  0.819608  0.423529  0.996078  0.270588   \n",
      "...        ...       ...       ...       ...       ...       ...       ...   \n",
      "3611  0.517647  0.156863  0.023529  0.545098  0.000000  0.058824  0.301961   \n",
      "3612  0.058824  0.000000  0.141176  0.462745  0.058824  0.188235  0.058824   \n",
      "3613  0.725490  0.458824  0.631373  0.270588  0.552941  0.490196  0.070588   \n",
      "3614  0.000000  0.000000  0.811765  0.000000  0.000000  0.000000  0.474510   \n",
      "3615  0.847059  0.000000  0.839216  1.000000  0.000000  0.000000  0.000000   \n",
      "\n",
      "         pix_7     pix_8     pix_9  ...  pix_1014  pix_1015  pix_1016  \\\n",
      "0     0.407843  0.501961  0.909804  ...  0.749020  0.188235  0.639216   \n",
      "1     0.000000  0.447059  0.000000  ...  0.560784  0.847059  0.466667   \n",
      "2     0.466667  0.886275  0.635294  ...  0.000000  0.000000  0.000000   \n",
      "3     0.341176  0.447059  0.396078  ...  0.000000  0.000000  0.000000   \n",
      "4     0.298039  0.305882  0.007843  ...  0.427451  0.396078  0.329412   \n",
      "...        ...       ...       ...  ...       ...       ...       ...   \n",
      "3611  0.800000  0.988235  0.941176  ...  0.745098  0.454902  0.960784   \n",
      "3612  0.764706  0.000000  0.000000  ...  0.917647  0.662745  0.725490   \n",
      "3613  0.584314  0.800000  0.956863  ...  0.925490  0.847059  0.886275   \n",
      "3614  0.000000  0.427451  0.000000  ...  0.996078  0.905882  0.705882   \n",
      "3615  1.000000  1.000000  0.847059  ...  0.149020  0.600000  0.941176   \n",
      "\n",
      "      pix_1017  pix_1018  pix_1019  pix_1020  pix_1021  pix_1022  pix_1023  \n",
      "0     0.650980  0.949020  0.254902  0.898039  0.023529  0.705882  0.113725  \n",
      "1     0.525490  0.003922  0.188235  0.282353  0.192157  0.282353  0.062745  \n",
      "2     0.000000  0.000000  0.000000  0.000000  0.000000  0.000000  0.000000  \n",
      "3     0.000000  0.000000  0.000000  0.000000  0.000000  0.000000  0.000000  \n",
      "4     0.317647  1.000000  1.000000  0.419608  0.921569  0.341176  0.305882  \n",
      "...        ...       ...       ...       ...       ...       ...       ...  \n",
      "3611  0.086275  0.125490  0.003922  0.282353  0.035294  0.435294  0.325490  \n",
      "3612  0.658824  0.419608  0.823529  1.000000  0.698039  0.356863  0.415686  \n",
      "3613  0.000000  0.000000  0.203922  0.000000  0.219608  0.247059  0.815686  \n",
      "3614  0.149020  0.666667  0.921569  0.078431  0.333333  0.701961  0.945098  \n",
      "3615  0.407843  0.858824  0.305882  0.756863  0.203922  0.654902  0.043137  \n",
      "\n",
      "[3616 rows x 1024 columns]\n"
     ]
    }
   ],
   "source": [
    "#shape of the dataset\n",
    "X_train_under = X_train_under/255\n",
    "X_test = X_test/255\n",
    "\n",
    "X_train = X_train.to_numpy()\n",
    "X_test = X_test.to_numpy()\n",
    "print(X_train_under)\n"
   ]
  },
  {
   "cell_type": "code",
   "execution_count": 36,
   "metadata": {},
   "outputs": [
    {
     "name": "stdout",
     "output_type": "stream",
     "text": [
      "<class 'pandas.core.frame.DataFrame'>\n"
     ]
    }
   ],
   "source": [
    "print(type(X_train_under))"
   ]
  },
  {
   "cell_type": "markdown",
   "metadata": {},
   "source": [
    "# Neural Network - MLP"
   ]
  },
  {
   "cell_type": "code",
   "execution_count": 58,
   "metadata": {},
   "outputs": [
    {
     "name": "stdout",
     "output_type": "stream",
     "text": [
      "Model: \"sequential_3\"\n",
      "_________________________________________________________________\n",
      "Layer (type)                 Output Shape              Param #   \n",
      "=================================================================\n",
      "flatten_1 (Flatten)          (None, 1024)              0         \n",
      "_________________________________________________________________\n",
      "dense_9 (Dense)              (None, 300)               307500    \n",
      "_________________________________________________________________\n",
      "dense_10 (Dense)             (None, 100)               30100     \n",
      "_________________________________________________________________\n",
      "dense_11 (Dense)             (None, 64)                6464      \n",
      "=================================================================\n",
      "Total params: 344,064\n",
      "Trainable params: 344,064\n",
      "Non-trainable params: 0\n",
      "_________________________________________________________________\n"
     ]
    }
   ],
   "source": [
    "model = keras.models.Sequential([\n",
    "    keras.layers.Flatten(input_shape=[32, 32]),\n",
    "    keras.layers.Dense(300, activation=\"relu\"),\n",
    "    keras.layers.Dense(100, activation=\"relu\"),\n",
    "    keras.layers.Dense(64, kernel_initializer='lecun_normal',\n",
    "                        activation='selu')\n",
    "])\n",
    "model.summary()"
   ]
  },
  {
   "cell_type": "code",
   "execution_count": 59,
   "metadata": {},
   "outputs": [
    {
     "data": {
      "text/plain": [
       "<tensorflow.python.keras.layers.core.Flatten at 0x7fa4d15db3a0>"
      ]
     },
     "execution_count": 59,
     "metadata": {},
     "output_type": "execute_result"
    }
   ],
   "source": [
    "model.layers[0]"
   ]
  },
  {
   "cell_type": "code",
   "execution_count": 49,
   "metadata": {},
   "outputs": [],
   "source": [
    "W_h1, b_h1 = model.layers[1].get_weights()"
   ]
  },
  {
   "cell_type": "code",
   "execution_count": 50,
   "metadata": {},
   "outputs": [
    {
     "data": {
      "text/plain": [
       "(array([[ 0.03258698, -0.01150916,  0.0271909 , ..., -0.00293007,\n",
       "         -0.03966659,  0.04545216],\n",
       "        [ 0.04274652, -0.00017698,  0.02440958, ..., -0.03310422,\n",
       "         -0.00396414, -0.01534171],\n",
       "        [-0.0205987 , -0.06172111,  0.04222877, ..., -0.03597155,\n",
       "         -0.02472156, -0.05277726],\n",
       "        ...,\n",
       "        [ 0.01938257, -0.02842064, -0.06238713, ...,  0.02125922,\n",
       "          0.02763173, -0.01918874],\n",
       "        [ 0.04784613, -0.01004472, -0.03327767, ..., -0.03750948,\n",
       "         -0.04498202, -0.02385423],\n",
       "        [ 0.04552721,  0.02016623, -0.05084747, ..., -0.01371953,\n",
       "         -0.03548827, -0.0449667 ]], dtype=float32),\n",
       " (1024, 300),\n",
       " array([0., 0., 0., 0., 0., 0., 0., 0., 0., 0., 0., 0., 0., 0., 0., 0., 0.,\n",
       "        0., 0., 0., 0., 0., 0., 0., 0., 0., 0., 0., 0., 0., 0., 0., 0., 0.,\n",
       "        0., 0., 0., 0., 0., 0., 0., 0., 0., 0., 0., 0., 0., 0., 0., 0., 0.,\n",
       "        0., 0., 0., 0., 0., 0., 0., 0., 0., 0., 0., 0., 0., 0., 0., 0., 0.,\n",
       "        0., 0., 0., 0., 0., 0., 0., 0., 0., 0., 0., 0., 0., 0., 0., 0., 0.,\n",
       "        0., 0., 0., 0., 0., 0., 0., 0., 0., 0., 0., 0., 0., 0., 0., 0., 0.,\n",
       "        0., 0., 0., 0., 0., 0., 0., 0., 0., 0., 0., 0., 0., 0., 0., 0., 0.,\n",
       "        0., 0., 0., 0., 0., 0., 0., 0., 0., 0., 0., 0., 0., 0., 0., 0., 0.,\n",
       "        0., 0., 0., 0., 0., 0., 0., 0., 0., 0., 0., 0., 0., 0., 0., 0., 0.,\n",
       "        0., 0., 0., 0., 0., 0., 0., 0., 0., 0., 0., 0., 0., 0., 0., 0., 0.,\n",
       "        0., 0., 0., 0., 0., 0., 0., 0., 0., 0., 0., 0., 0., 0., 0., 0., 0.,\n",
       "        0., 0., 0., 0., 0., 0., 0., 0., 0., 0., 0., 0., 0., 0., 0., 0., 0.,\n",
       "        0., 0., 0., 0., 0., 0., 0., 0., 0., 0., 0., 0., 0., 0., 0., 0., 0.,\n",
       "        0., 0., 0., 0., 0., 0., 0., 0., 0., 0., 0., 0., 0., 0., 0., 0., 0.,\n",
       "        0., 0., 0., 0., 0., 0., 0., 0., 0., 0., 0., 0., 0., 0., 0., 0., 0.,\n",
       "        0., 0., 0., 0., 0., 0., 0., 0., 0., 0., 0., 0., 0., 0., 0., 0., 0.,\n",
       "        0., 0., 0., 0., 0., 0., 0., 0., 0., 0., 0., 0., 0., 0., 0., 0., 0.,\n",
       "        0., 0., 0., 0., 0., 0., 0., 0., 0., 0., 0.], dtype=float32),\n",
       " (300,))"
      ]
     },
     "execution_count": 50,
     "metadata": {},
     "output_type": "execute_result"
    }
   ],
   "source": [
    "W_h1, W_h1.shape, b_h1, b_h1.shape"
   ]
  },
  {
   "cell_type": "markdown",
   "metadata": {},
   "source": [
    "W_h1, b_h1 = model.layers[1].get_weights()"
   ]
  },
  {
   "cell_type": "code",
   "execution_count": 60,
   "metadata": {},
   "outputs": [],
   "source": [
    "model.compile(loss = 'sparse_categorical_crossentropy',\n",
    "              optimizer = 'sgd',\n",
    "              metrics =  ['accuracy'],\n",
    "             )"
   ]
  },
  {
   "cell_type": "code",
   "execution_count": 52,
   "metadata": {},
   "outputs": [],
   "source": [
    "X_train_nn, X_val_nn, y_train_nn, y_val_nn = train_test_split(X_train_under, y_train_under, test_size=0.30, shuffle=True)"
   ]
  },
  {
   "cell_type": "code",
   "execution_count": 61,
   "metadata": {},
   "outputs": [
    {
     "name": "stdout",
     "output_type": "stream",
     "text": [
      "(2531, 1024) (1085, 1024)\n"
     ]
    }
   ],
   "source": [
    "print(X_train_nn.shape, X_val_nn.shape)"
   ]
  },
  {
   "cell_type": "code",
   "execution_count": 62,
   "metadata": {},
   "outputs": [
    {
     "name": "stdout",
     "output_type": "stream",
     "text": [
      "(2531, 1024) (1085, 1024)\n",
      "Epoch 1/25\n",
      "WARNING:tensorflow:Model was constructed with shape (None, 32, 32) for input KerasTensor(type_spec=TensorSpec(shape=(None, 32, 32), dtype=tf.float32, name='flatten_1_input'), name='flatten_1_input', description=\"created by layer 'flatten_1_input'\"), but it was called on an input with incompatible shape (None, 1024).\n",
      "WARNING:tensorflow:Model was constructed with shape (None, 32, 32) for input KerasTensor(type_spec=TensorSpec(shape=(None, 32, 32), dtype=tf.float32, name='flatten_1_input'), name='flatten_1_input', description=\"created by layer 'flatten_1_input'\"), but it was called on an input with incompatible shape (None, 1024).\n",
      "30/40 [=====================>........] - ETA: 0s - loss: 2.8734 - accuracy: 0.4328WARNING:tensorflow:Model was constructed with shape (None, 32, 32) for input KerasTensor(type_spec=TensorSpec(shape=(None, 32, 32), dtype=tf.float32, name='flatten_1_input'), name='flatten_1_input', description=\"created by layer 'flatten_1_input'\"), but it was called on an input with incompatible shape (None, 1024).\n",
      "40/40 [==============================] - 0s 7ms/step - loss: 2.4850 - accuracy: 0.4444 - val_loss: 0.7119 - val_accuracy: 0.5161\n",
      "Epoch 2/25\n",
      "40/40 [==============================] - 0s 5ms/step - loss: 0.7070 - accuracy: 0.4959 - val_loss: 0.6986 - val_accuracy: 0.5152\n",
      "Epoch 3/25\n",
      "40/40 [==============================] - 0s 5ms/step - loss: 0.6991 - accuracy: 0.5039 - val_loss: 0.6959 - val_accuracy: 0.5014\n",
      "Epoch 4/25\n",
      "40/40 [==============================] - 0s 6ms/step - loss: 0.6954 - accuracy: 0.4933 - val_loss: 0.6945 - val_accuracy: 0.5097\n",
      "Epoch 5/25\n",
      "40/40 [==============================] - 0s 5ms/step - loss: 0.6937 - accuracy: 0.4996 - val_loss: 0.6936 - val_accuracy: 0.5078\n",
      "Epoch 6/25\n",
      "40/40 [==============================] - 0s 5ms/step - loss: 0.6931 - accuracy: 0.4949 - val_loss: 0.6929 - val_accuracy: 0.4940\n",
      "Epoch 7/25\n",
      "40/40 [==============================] - 0s 5ms/step - loss: 0.6934 - accuracy: 0.4852 - val_loss: 0.6922 - val_accuracy: 0.5041\n",
      "Epoch 8/25\n",
      "40/40 [==============================] - 0s 5ms/step - loss: 0.6919 - accuracy: 0.4911 - val_loss: 0.6917 - val_accuracy: 0.5041\n",
      "Epoch 9/25\n",
      "40/40 [==============================] - 0s 5ms/step - loss: 0.6911 - accuracy: 0.5055 - val_loss: 0.6911 - val_accuracy: 0.5124\n",
      "Epoch 10/25\n",
      "40/40 [==============================] - 0s 5ms/step - loss: 0.6910 - accuracy: 0.4783 - val_loss: 0.6905 - val_accuracy: 0.5115\n",
      "Epoch 11/25\n",
      "40/40 [==============================] - 0s 6ms/step - loss: 0.6894 - accuracy: 0.5075 - val_loss: 0.6900 - val_accuracy: 0.5106\n",
      "Epoch 12/25\n",
      "40/40 [==============================] - 0s 5ms/step - loss: 0.6884 - accuracy: 0.4994 - val_loss: 0.6896 - val_accuracy: 0.5060\n",
      "Epoch 13/25\n",
      "40/40 [==============================] - 0s 5ms/step - loss: 0.6873 - accuracy: 0.5068 - val_loss: 0.6892 - val_accuracy: 0.4940\n",
      "Epoch 14/25\n",
      "40/40 [==============================] - 0s 5ms/step - loss: 0.6886 - accuracy: 0.4891 - val_loss: 0.6887 - val_accuracy: 0.4995\n",
      "Epoch 15/25\n",
      "40/40 [==============================] - 0s 5ms/step - loss: 0.6880 - accuracy: 0.5096 - val_loss: 0.6884 - val_accuracy: 0.4848\n",
      "Epoch 16/25\n",
      "40/40 [==============================] - 0s 5ms/step - loss: 0.6876 - accuracy: 0.4873 - val_loss: 0.6879 - val_accuracy: 0.4857\n",
      "Epoch 17/25\n",
      "40/40 [==============================] - 0s 5ms/step - loss: 0.6865 - accuracy: 0.4751 - val_loss: 0.6873 - val_accuracy: 0.4968\n",
      "Epoch 18/25\n",
      "40/40 [==============================] - 0s 5ms/step - loss: 0.6839 - accuracy: 0.5043 - val_loss: 0.6794 - val_accuracy: 0.5253\n",
      "Epoch 19/25\n",
      "40/40 [==============================] - 0s 5ms/step - loss: 0.6768 - accuracy: 0.5058 - val_loss: 0.6684 - val_accuracy: 0.5253\n",
      "Epoch 20/25\n",
      "40/40 [==============================] - 0s 5ms/step - loss: 0.6677 - accuracy: 0.5121 - val_loss: 0.6632 - val_accuracy: 0.5244\n",
      "Epoch 21/25\n",
      "40/40 [==============================] - 0s 5ms/step - loss: 0.6549 - accuracy: 0.5182 - val_loss: 0.6660 - val_accuracy: 0.5263\n",
      "Epoch 22/25\n",
      "40/40 [==============================] - 0s 5ms/step - loss: 0.6539 - accuracy: 0.5068 - val_loss: 0.6679 - val_accuracy: 0.5253\n",
      "Epoch 23/25\n",
      "40/40 [==============================] - 0s 5ms/step - loss: 0.6485 - accuracy: 0.5052 - val_loss: 0.6768 - val_accuracy: 0.5253\n",
      "Epoch 24/25\n",
      "40/40 [==============================] - 0s 5ms/step - loss: 0.6347 - accuracy: 0.5129 - val_loss: 0.6770 - val_accuracy: 0.5235\n",
      "Epoch 25/25\n",
      "40/40 [==============================] - 0s 5ms/step - loss: 0.6348 - accuracy: 0.5068 - val_loss: 0.6851 - val_accuracy: 0.5263\n"
     ]
    }
   ],
   "source": [
    "print(X_train_nn.shape, X_val_nn.shape)\n",
    "history = model.fit(X_train_nn, y_train_nn,\n",
    "          epochs=25,\n",
    "          validation_data=(X_val_nn,y_val_nn),\n",
    "          batch_size = 64\n",
    "         )"
   ]
  },
  {
   "cell_type": "code",
   "execution_count": 63,
   "metadata": {},
   "outputs": [
    {
     "data": {
      "image/png": "[encoded data removed]",
      "text/plain": [
       "<Figure size 864x288 with 1 Axes>"
      ]
     },
     "metadata": {
      "needs_background": "light"
     },
     "output_type": "display_data"
    }
   ],
   "source": [
    "pd.DataFrame(history.history).plot(figsize=(12,4))\n",
    "plt.grid(True)"
   ]
  },
  {
   "cell_type": "code",
   "execution_count": 66,
   "metadata": {},
   "outputs": [
    {
     "name": "stdout",
     "output_type": "stream",
     "text": [
      "WARNING:tensorflow:Model was constructed with shape (None, 32, 32) for input KerasTensor(type_spec=TensorSpec(shape=(None, 32, 32), dtype=tf.float32, name='flatten_1_input'), name='flatten_1_input', description=\"created by layer 'flatten_1_input'\"), but it was called on an input with incompatible shape (None, 1024).\n",
      "488/488 [==============================] - 1s 1ms/step - loss: 0.8271 - accuracy: 0.0917\n"
     ]
    },
    {
     "data": {
      "text/plain": [
       "[0.8270946145057678, 0.09173723310232162]"
      ]
     },
     "execution_count": 66,
     "metadata": {},
     "output_type": "execute_result"
    }
   ],
   "source": [
    "model.evaluate(X_test, y_test)"
   ]
  },
  {
   "cell_type": "markdown",
   "metadata": {},
   "source": [
    "# Conclusion: \n",
    "\n"
   ]
  }
 ],
 "metadata": {
  "interpreter": {
   "hash": "66e36499309382ea5ef5e94aa6f5b9b918dcd63b5157b8b253095a3d50349180"
  },
  "kernelspec": {
   "display_name": "Python 3.9.7 ('dse_ml_project')",
   "language": "python",
   "name": "python3"
  },
  "language_info": {
   "codemirror_mode": {
    "name": "ipython",
    "version": 3
   },
   "file_extension": ".py",
   "mimetype": "text/x-python",
   "name": "python",
   "nbconvert_exporter": "python",
   "pygments_lexer": "ipython3",
   "version": "3.9.7"
  },
  "orig_nbformat": 4
 },
 "nbformat": 4,
 "nbformat_minor": 2
}
